{
 "cells": [
  {
   "cell_type": "markdown",
   "id": "17efec86",
   "metadata": {},
   "source": [
    "# Demo: Plot single reservoir time series\n",
    "This demo shows how to load a CSV exported from InfluxDB and plot the 'reserva' (total water) and 'porcentaje' (percentage) fields using the project utilities."
   ]
  },
  {
   "cell_type": "code",
   "execution_count": null,
   "id": "73bee340",
   "metadata": {},
   "outputs": [],
   "source": [
    "# Cell 2: Import utilities\n",
    "import sys\n",
    "import os\n",
    "sys.path.append(os.path.abspath('../src'))\n",
    "from plot_single import load_time_series, plot_series\n",
    "\n",
    "# Load the sample CSV\n",
    "csv_path = os.path.abspath('../data/test.csv')\n",
    "df = load_time_series(csv_path)\n",
    "\n",
    "# Show available columns and date range\n",
    "print('Columns:', list(df.columns))\n",
    "print('Date range:', df.index.min(), 'to', df.index.max())"
   ]
  },
  {
   "cell_type": "code",
   "execution_count": null,
   "id": "baf05369",
   "metadata": {},
   "outputs": [],
   "source": [
    "# Cell 3: Plot reserva interactively\n",
    "plot_series(df, value_col='reserva', title='CASASOLA - reserva')"
   ]
  },
  {
   "cell_type": "code",
   "execution_count": null,
   "id": "480a29dc",
   "metadata": {},
   "outputs": [],
   "source": [
    "# Cell 4: Save porcentaje plot to file\n",
    "out_path = os.path.abspath('casasola_porcentaje.png')\n",
    "plot_series(df, value_col='porcentaje', title='CASASOLA - porcentaje', output=out_path)\n",
    "print('Saved:', out_path)"
   ]
  }
 ],
 "metadata": {
  "language_info": {
   "name": "python"
  }
 },
 "nbformat": 4,
 "nbformat_minor": 5
}
