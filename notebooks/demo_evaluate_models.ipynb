{
 "cells": [
  {
   "cell_type": "markdown",
   "id": "eb4c3eb4",
   "metadata": {},
   "source": [
    "# Demo: Evaluate statistical forecasting models\n",
    "This notebook demonstrates using the project's evaluation script to compare ARIMA, SARIMA and Holt-Winters on a single reservoir time series. It shows how to run the evaluation and plot/save comparison results."
   ]
  },
  {
   "cell_type": "code",
   "execution_count": null,
   "id": "2a63302b",
   "metadata": {},
   "outputs": [],
   "source": [
    "# Cell 2: imports and load data\n",
    "import sys, os\n",
    "sys.path.append(os.path.abspath('../src'))\n",
    "\n",
    "from evaluate_statistical_models import run_evaluation, plot_comparison\n",
    "from plot_single import load_time_series, slice_by_dates\n",
    "\n",
    "csv_path = os.path.abspath('../data/test.csv')\n",
    "\n",
    "# Load and prepare\n",
    "df = load_time_series(csv_path)\n",
    "sub = slice_by_dates(df, None, None)\n",
    "series = pd.to_numeric(sub['reserva'], errors='coerce')\n",
    "series.index = sub.index\n",
    "series = series.dropna()\n",
    "\n",
    "print('Series length:', len(series))\n",
    "\n",
    "# Run evaluation with small test horizon for demo\n",
    "results, train, test, preds = run_evaluation(series, test_days=30, seasonal_period=365, arima_cfg={'p_max':1,'q_max':1}, sarima_cfg={'p_max':1})\n",
    "print('Results:')\n",
    "print(results)\n",
    "\n",
    "# Plot comparison\n",
    "plot_comparison(train, test, preds, title='Demo model comparison')"
   ]
  }
 ],
 "metadata": {
  "language_info": {
   "name": "python"
  }
 },
 "nbformat": 4,
 "nbformat_minor": 5
}
