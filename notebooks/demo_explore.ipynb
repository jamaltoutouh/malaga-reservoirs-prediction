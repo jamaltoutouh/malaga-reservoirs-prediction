{
 "cells": [
  {
   "cell_type": "markdown",
   "id": "3d720768",
   "metadata": {},
   "source": [
    "# Demo: Exploratory analysis for a reservoir\n",
    "This demo shows how to load a CSV exported from InfluxDB and run the exploratory analysis utilities in `src/explore.py`.\n",
    "\n",
    "Steps performed in the notebook:\n",
    "1. Load CSV using `load_time_series` (handles InfluxDB-style header rows).\n",
    "2. Select the field to analyze (`reserva` or `porcentaje`).\n",
    "3. Convert to numeric, align index, and drop missing values before calling `analyze`."
   ]
  },
  {
   "cell_type": "code",
   "execution_count": null,
   "id": "def3af18",
   "metadata": {},
   "outputs": [],
   "source": [
    "# Cell 2: Import utilities and prepare environment\n",
    "import sys\n",
    "import os\n",
    "sys.path.append(os.path.abspath('../src'))\n",
    "\n",
    "from plot_single import load_time_series\n",
    "from explore import analyze\n",
    "import pandas as pd\n",
    "\n",
    "# Path to sample CSV\n",
    "csv_path = os.path.abspath('../data/test.csv')\n",
    "\n",
    "# Load data (load_time_series will detect the second-row header produced by InfluxDB)\n",
    "df = load_time_series(csv_path)\n",
    "\n",
    "print('Available columns:', list(df.columns))\n",
    "print('Date range:', df.index.min(), 'to', df.index.max())\n",
    "\n",
    "# Choose the field to analyze\n",
    "field = 'reserva'  # change to 'porcentaje' if desired\n",
    "\n",
    "# Validate field exists\n",
    "if field not in df.columns:\n",
    "    raise SystemExit(f\"Field '{field}' not found in CSV. Available: {', '.join(df.columns)}\")\n",
    "\n",
    "# Convert to numeric and align index\n",
    "series = pd.to_numeric(df[field], errors='coerce')\n",
    "series.index = df.index\n",
    "\n",
    "# Drop missing values to avoid length/index mismatches\n",
    "series = series.dropna()\n",
    "\n",
    "print(f'Prepared series for {field}: {series.shape[0]} records')\n",
    "\n",
    "# Run exploratory analysis and show interactively\n",
    "analyze(series, value_col=field)"
   ]
  }
 ],
 "metadata": {
  "language_info": {
   "name": "python"
  }
 },
 "nbformat": 4,
 "nbformat_minor": 5
}
